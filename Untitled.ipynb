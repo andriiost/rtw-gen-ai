{
 "cells": [
  {
   "cell_type": "code",
   "execution_count": 12,
   "id": "d071e6bb-6a30-4d24-a6bc-fb93fce4668d",
   "metadata": {},
   "outputs": [],
   "source": [
    "from openai import OpenAI\n",
    "\n",
    "# # Load the JSON data from the file\n",
    "# with open(\"test_files.json\", \"r\") as file:\n",
    "#     data = json.load(file)\n",
    "OPENAI_API_KEY = ''\n",
    "client = OpenAI(api_key=OPENAI_API_KEY)\n"
   ]
  },
  {
   "cell_type": "code",
   "execution_count": 30,
   "id": "3472d0ad-d24a-4178-a388-f48b5513e536",
   "metadata": {
    "scrolled": true
   },
   "outputs": [
    {
     "name": "stdout",
     "output_type": "stream",
     "text": [
      "Response for 'Accommodations - Construction - Bricklayer (WSIB Newsletter)':\n",
      "{\n",
      "  \"accommodations\": [\n",
      "    {\n",
      "      \"accommodation_name\": \"Brick tongs\",\n",
      "      \"description\": \"Brick tongs allow lifting of a half dozen bricks at a time with a neutral wrist and power grip posture. This lift can be placed on a wheeled platform that will move along the wall being built. It eliminates the lift of each cinder block from the bricklayer.\",\n",
      "      \"injury_location_name\": \"Arm(s)\",\n",
      "      \"industry_name\": \"Construction\",\n",
      "      \"activity_name\": \"Lifting bricks\"\n",
      "    },\n",
      "    {\n",
      "      \"accommodation_name\": \"Mortar silos\",\n",
      "      \"description\": \"The industry is recommending moving to mortar silos where pre-mixed mortar is delivered to a silo placed on-site and mortar is dispensed into a wheelbarrow with no lifting of bags of mix. These are useful in new housing developments where multiple houses are being built or commercial developments where large buildings are being constructed.\",\n",
      "      \"injury_location_name\": \"Lower back (lumbar, sacral, coccygeal regions)\",\n",
      "      \"industry_name\": \"Construction\",\n",
      "      \"activity_name\": \"Lifting and pouring bags of mix\"\n",
      "    },\n",
      "    {\n",
      "      \"accommodation_name\": \"Mortar stands\",\n",
      "      \"description\": \"Mortar stands are a great tool that raises the mortar to ensure repeated bending is not required. The base shown allows 2 different heights but there are stands of varying heights.\",\n",
      "      \"injury_location_name\": \"Lower back (lumbar, sacral, coccygeal regions)\",\n",
      "      \"industry_name\": \"Construction\",\n",
      "      \"activity_name\": \"Bending to lift or drop materials\"\n",
      "    },\n",
      "    {\n",
      "      \"accommodation_name\": \"Scaffolding hand lever\",\n",
      "      \"description\": \"This model has a hand lever that cranks the plank up one notch at a time or lowers one notch at a time. This results in the bricklayer working at the optimum postures at all times, as they can make incremental adjustments to the plank height with very little effort and time away from the work. These are purchased one frame at a time and a minimum of 2 are required but work platforms can be set-up the length of a house or one section at a time making this an affordable tool for independent operators.\",\n",
      "      \"injury_location_name\": \"Multiple body parts\",\n",
      "      \"industry_name\": \"Construction\",\n",
      "      \"activity_name\": \"Setting up scaffolding\"\n",
      "    }\n",
      "  ]\n",
      "}\n",
      "\n",
      "==================================================\n",
      "\n"
     ]
    }
   ],
   "source": [
    "import json\n",
    "data = [{\n",
    "   \"name\": \"Accommodations - Construction - Bricklayer (WSIB Newsletter)\",\n",
    "   \"text\": \" \\n \\n  \\nThe Accommodations SME\\u2019s are accepting referrals! \\n \\nACCOMMODATIONS NEWS \\nVolume 2/ Issue 17 (May 5, 2023) \\n \\n   \\n \\n \\n \\n \\nThe Construction Series- Bricklayer Edition \\nCLICK HERE TO REFER \\n \\n \\n \\nBricklayer or Stonemason work can be very physical and heavy work with repeated lifting of bricks, stone and concrete cinder blocks.  Although the work \\nof tradespeople and labourers can be physically demanding, there are opportunities to reduce those demands and the risk of injury  \\n. \\nBricklayer or Stonemason work can be very physical and heavy work with repeated lifting of bricks, stone and concrete \\ncinder blocks.  Accommodating labourers and tradespeople is possible even with the demands of these duties. \\n. \\n \\n \\n \\nBrick tongs allow lifting of a half \\ndozen bricks at a time with a \\nneutral wrist and power grip \\nposture. \\n \\n \\nThis lift can be placed on a wheeled platform that will move \\nalong the wall being built. It eliminates the lift of each cinder \\nblock from the bricklayer. \\n \\n \\nMixing mortar is often a barrier for labourers as \\n50lb bags must be lifted from ground level and \\npoured into the mixer at chest level. The \\nindustry is recommending moving to mortar silos \\nwhere pre-mixed mortar is delivered to a silo \\nplaced on-site and mortar is dispensed into a \\nwheelbarrow with no lifting of bags of mix. \\nThese are useful in new housing developments \\nwhere multiple houses are being built or \\ncommercial developments where large buildings \\nare being constructed. \\n \\n \\n \\n \\n  \\n \\nMortar stands are a great tool that raises the \\nmortar to ensure repeated bending is not \\nrequired. The base shown allows 2 different \\nheights but there are stands of varying heights. \\n \\n \\n \\nBricklayers and Stonemasons normally work from scaffolding and their work level changes as they \\nprogress.  This can mean lifting and shifting heavy planks from level to level as well as lifting \\nheavy sections of scaffold to assemble it. \\n \\n \\n \\n \\n \\n \\n \\n \\n \\nThis model has a hand lever that cranks the plank up one notch at a time or lowers one notch at a \\ntime. This results in the bricklayer working at the optimum postures at all times, as they can make \\nincremental adjustments to the plank height with very little effort and time away from the work. \\nThese are purchased one frame at a time and a minimum of 2 are required but work platforms can \\nbe set-up the length of a house or one section at a time making this an affordable tool for \\nindependent operators. \\n \\n \\n \\n \\n\"\n",
    "}]\n",
    "for doc in data:\n",
    "    name = doc[\"name\"]\n",
    "    text = doc[\"text\"]\n",
    "    prompt = f\"\"\"\n",
    "    You will receive a text containing information about multiple accommodations. Extract each accommodation from the text with the following details:\n",
    "    - Accommodation Name: The specific tool or method being used to accommodate workers. Retrieve directly from the text; do not create or alter names;;\n",
    "    - Description: A detailed explanation of the accommodation.Get this info from the text directly. Retrieve directly from the text; do not create or alter description;ter names;\n",
    "    - Injury Location Name: Choosing only from the list: {\"Body systems\", \"Multiple body parts\", \"Cranial region, including skull\", \"Leg(s)\", \"Lower back (lumbar, sacral, coccygeal regions)\", \"Shoulder\", \"Ankle(s)\", \"Finger(s), fingernail(s)\", \"Arm(s)\", \"Wrist(s)\", \"Not Coded\", \"Foot (feet), except toe(s)\", \"Chest, including ribs, internal organs\", \"Pelvic region\", \"Upper extremities, unspecified, NEC\", \"Multiple trunk locations\", \"Multiple lower extremities locations\", \"Hand(s), except finger(s)\", \"Upper back (cervical, thoracic regions)\", \"Multiple back regions\", \"Abdomen\", \"Back, unspecified, NEC\", \"Head, unspecified, NEC\", \"Eye(s)\", \"Face\", \"Toe(s), toenail(s)\", \"Ear(s)\", \"Multiple head locations\", \"Lower extremities, unspecified, NEC\", \"Trunk, unspecified, NEC\", \"Other body parts including unclassified, NEC\"} indentify the part of the body that the accommodation aims to protect or assist;\n",
    "    - Industry Name: Choosing only from the list: {\"Agriculture, forestry, fishing and hunting\", \"Mining, quarrying, and oil and gas extraction\", \"Utilities\", \"Construction\", \"Manufacturing\", \"Wholesale trade\", \"Retail trade\", \"Transportation and warehousing\", \"Information and cultural industries\", \"Finance and insurance\", \"Real estate and rental and leasing\", \"Professional, scientific, and technical services\", \"Management of companies and enterprises\", \"Administrative and support, waste management, and remediation services\", \"Educational services\", \"Health care and social assistance\", \"Arts, entertainment, and recreation\", \"Accommodation and food services\", \"Other services (except public administration)\", \"Public administration\"} indentify the industry in which the accommodation is used (e.g., Construction). If there is no industry specified choose  \"Multiple\";\n",
    "    - Activity Name: Indentify the physical tasks associated with or accommodated by the accommodation.\n",
    "\n",
    "    Format the extracted data as a JSON object, with an array if multiple are mentioned in the text. Use the following structure:\n",
    "    {{\n",
    "      \"accommodations\": [\n",
    "        {{\n",
    "          \"accommodation_name\": \"\",\n",
    "          \"description\": \"\",\n",
    "          \"injury_location_name\": \"\",\n",
    "          \"industry_name\": \"\",\n",
    "          \"activity_name\": \"\"\n",
    "        }}\n",
    "      ]\n",
    "    }}\n",
    "\n",
    "    Title: {name}\n",
    "    Text: {text}\n",
    "    \"\"\"\n",
    "\n",
    "    response = client.chat.completions.create(\n",
    "        model=\"gpt-4\",\n",
    "        messages=[\n",
    "            {\"role\": \"system\", \"content\": \"You are a helpful assistant designed to extract data from text and format it as JSON object.\"},\n",
    "            {\"role\": \"user\", \"content\": prompt}\n",
    "        ],\n",
    "        temperature=1,\n",
    "        max_tokens=2048,\n",
    "        top_p=1,\n",
    "        frequency_penalty=0,\n",
    "        presence_penalty=0\n",
    "    )\n",
    "\n",
    "    print(f\"Response for '{name}':\")\n",
    "    print(response.choices[0].message.content)\n",
    "    print(\"\\n\" + \"=\" * 50 + \"\\n\")"
   ]
  },
  {
   "cell_type": "code",
   "execution_count": null,
   "id": "2e90c3bf-e48d-4092-9f52-f81969050f40",
   "metadata": {},
   "outputs": [],
   "source": []
  }
 ],
 "metadata": {
  "kernelspec": {
   "display_name": "Python 3 (ipykernel)",
   "language": "python",
   "name": "python3"
  },
  "language_info": {
   "codemirror_mode": {
    "name": "ipython",
    "version": 3
   },
   "file_extension": ".py",
   "mimetype": "text/x-python",
   "name": "python",
   "nbconvert_exporter": "python",
   "pygments_lexer": "ipython3",
   "version": "3.11.7"
  }
 },
 "nbformat": 4,
 "nbformat_minor": 5
}
